{
 "cells": [
  {
   "cell_type": "code",
   "execution_count": null,
   "metadata": {},
   "outputs": [],
   "source": [
    "#Jupyter Notebook to processing pipeline\n",
    "\n",
    "\"\"\"\n",
    "I would create a script that would retrieve images or videos from some database and input them into the model in order to train\n",
    "it.Then the script would retrieve the data to analyze and modify the images in a way that make them compatible with the model if\n",
    "this is required. The script would then pass the modified images into the model and store the results in the database. \n",
    "\"\"\"\n",
    "\n",
    "\n",
    "#Demo\n",
    "\"\"\"\n",
    "The following code predicts the selling price of a house based on the crime rate of the area, the square footage, and the age \n",
    "of residents using a linear regression model. \n",
    "\"\"\"\n",
    "\n",
    "#houseData is a list of dictionaries with keys 'crimeRate', 'sqFt', 'ageResidents'\n",
    "\n",
    "import pandas\n",
    "from sklearn import linear_model\n",
    "\n",
    "#generates the coefficients\n",
    "def train(csvData):\n",
    "    dataFrame = pandas.read_csv(csvData)\n",
    "    independentVars = dataFrame[['crimeRate', 'sqFt', 'ageResidents']]\n",
    "    dependentVars = dataFrame['sellingPrice']\n",
    "    \n",
    "    model = linear_model.LinearRegression()\n",
    "    model.fit(independentVars, dependentVars)\n",
    "    return model\n",
    "\n",
    "#predicts the selling price of a house using a model\n",
    "def predictSellingPrice(model, house):\n",
    "    predictionsRaw = model.predict([[house['crimeRate'], house['sqFt'], house['avgAgeResidents']]])\n",
    "    predictions = []\n",
    "    for i in predictionsRaw:\n",
    "        predictions.append(round(i,2))\n",
    "    print(predictions)\n",
    "\n",
    "datafile = \"C:/Users/adams/Desktop/PEY Co-op/Applications+Stats/TestData_AIDeveloper_Script.csv\"\n",
    "house = {\n",
    "    \"crimeRate\": 1234,\n",
    "    \"sqFt\": 2634,\n",
    "    \"avgAgeResidents\": 56.3\n",
    "}\n",
    "predictSellingPrice(train(datafile), house)\n"
   ]
  }
 ],
 "metadata": {
  "kernelspec": {
   "display_name": "Python 3",
   "language": "python",
   "name": "python3"
  },
  "language_info": {
   "codemirror_mode": {
    "name": "ipython",
    "version": 3
   },
   "file_extension": ".py",
   "mimetype": "text/x-python",
   "name": "python",
   "nbconvert_exporter": "python",
   "pygments_lexer": "ipython3",
   "version": "3.7.9"
  }
 },
 "nbformat": 4,
 "nbformat_minor": 4
}
