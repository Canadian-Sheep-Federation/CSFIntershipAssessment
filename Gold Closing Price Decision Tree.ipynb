{
 "cells": [
  {
   "cell_type": "markdown",
   "id": "5a1dcc47",
   "metadata": {},
   "source": [
    "## Imported Libraries"
   ]
  },
  {
   "cell_type": "code",
   "execution_count": 3,
   "id": "c52dcfc7",
   "metadata": {},
   "outputs": [],
   "source": [
    "import pandas as pd\n",
    "import os\n",
    "from sklearn.tree import DecisionTreeRegressor\n",
    "from sklearn.metrics import mean_absolute_error\n",
    "from sklearn.model_selection import train_test_split"
   ]
  },
  {
   "cell_type": "markdown",
   "id": "5dd665ef",
   "metadata": {},
   "source": [
    "## Setup"
   ]
  },
  {
   "cell_type": "code",
   "execution_count": 4,
   "id": "95681504",
   "metadata": {},
   "outputs": [],
   "source": [
    "# data taken from Monthly Gold Prices (1979-2021) on Kaggle\n",
    "gold_data_path = os.path.abspath('gold.csv')\n",
    "gold_data = pd.read_csv(gold_data_path)\n",
    "\n",
    "# print(gold_data.describe())\n",
    "\n",
    "gold_data = gold_data.dropna(axis=0)  # drops not available data\n",
    "\n",
    "gold_data_features = ['Open', 'Low', 'Volume']  # features for the prediction\n",
    "y = gold_data.Close  # prediction target\n",
    "x = gold_data[gold_data_features]"
   ]
  },
  {
   "cell_type": "markdown",
   "id": "8d717858",
   "metadata": {},
   "source": [
    "## Validation Testing"
   ]
  },
  {
   "cell_type": "code",
   "execution_count": 5,
   "id": "9c360de3",
   "metadata": {},
   "outputs": [
    {
     "name": "stdout",
     "output_type": "stream",
     "text": [
      "Non-Optimized Model MAE: 10.26907122905028 \n",
      "\n"
     ]
    }
   ],
   "source": [
    "train_x, validation_x, train_y, validation_y = train_test_split(x, y, random_state=1)   # splits the data up into training and validation data; seed 1 for rng\n",
    "\n",
    "gold_model = DecisionTreeRegressor(random_state=1)    # decision tree model\n",
    "\n",
    "gold_model.fit(train_x, train_y)    # training\n",
    "\n",
    "validation_predictions = gold_model.predict(validation_x)   # predictions based on validation features\n",
    "\n",
    "MAE = mean_absolute_error(validation_y, validation_predictions) # actual value vs prediction value\n",
    "\n",
    "print(f\"Non-Optimized Model MAE: {MAE} \\n\")"
   ]
  },
  {
   "cell_type": "markdown",
   "id": "8a6d8502",
   "metadata": {},
   "source": [
    "## Optimized Model"
   ]
  },
  {
   "cell_type": "code",
   "execution_count": 6,
   "id": "68332406",
   "metadata": {},
   "outputs": [
    {
     "name": "stdout",
     "output_type": "stream",
     "text": [
      "Max Leaf Node: 10  \t\t MAE: 39.7833661572689\n",
      "Max Leaf Node: 30  \t\t MAE: 17.47898893612397\n",
      "Max Leaf Node: 50  \t\t MAE: 13.91380965239011\n",
      "Max Leaf Node: 70  \t\t MAE: 13.106381307462183\n",
      "Max Leaf Node: 100  \t\t MAE: 12.585506401119742\n",
      "Max Leaf Node: 150  \t\t MAE: 11.762034122868641\n",
      "Max Leaf Node: 200  \t\t MAE: 10.780831027206021\n",
      "Max Leaf Node: 300  \t\t MAE: 10.28359831470839\n",
      "Max Leaf Node: 400  \t\t MAE: 10.206088972992944\n",
      "Max Leaf Node: 500  \t\t MAE: 10.235753685456274\n",
      "Max Leaf Node: 600  \t\t MAE: 10.208380659156218\n",
      "Max Leaf Node: 1000  \t\t MAE: 10.439191604150114\n",
      "\n",
      " Optimal Tree Size: 400\n"
     ]
    }
   ],
   "source": [
    "# model optimization: checks to see the amount many leaf nodes needed for a better MAE \n",
    "def getMAE(leaf_nodes, train_x, train_y, val_x, val_y): # function for checking other tree sizes\n",
    "    model = DecisionTreeRegressor(max_leaf_nodes=leaf_nodes, random_state=1)\n",
    "    model.fit(train_x, train_y)\n",
    "    val_predict = model.predict(val_x)\n",
    "    mae = mean_absolute_error(val_y, val_predict)\n",
    "    return(mae)\n",
    "\n",
    "\n",
    "leafs_to_try = [10, 30, 50, 70, 100, 150, 200, 300, 400, 500, 600, 1000]    # other tree sizes\n",
    "\n",
    "MAEvalue = {}   # empty dictionary for the for loop\n",
    "\n",
    "for i in leafs_to_try:  # iterates through other tree sizes and stores the outcomes in a hash table\n",
    "    MAEvalue[i] = getMAE(i, train_x, train_y, validation_x, validation_y)\n",
    "    print(f\"Max Leaf Node: {i}  \\t\\t MAE: {getMAE(i, train_x, train_y, validation_x, validation_y)}\")\n",
    "\n",
    "optimal_tree_size = min(MAEvalue, key=MAEvalue.get)  # finds the smallest MAE value and outputs the key/tree size\n",
    "print(f\"\\n Optimal Tree Size: {optimal_tree_size}\")"
   ]
  },
  {
   "cell_type": "markdown",
   "id": "74519995",
   "metadata": {},
   "source": [
    "## Final Model"
   ]
  },
  {
   "cell_type": "code",
   "execution_count": 8,
   "id": "90d4b0fe",
   "metadata": {},
   "outputs": [],
   "source": [
    "final_model = DecisionTreeRegressor(max_leaf_nodes=optimal_tree_size, random_state=1)\n",
    "\n",
    "final_model.fit(x, y)   # model has been optimized, so there is no need for using validation data\n",
    "\n",
    "final_gold_prediction = final_model.predict(x)"
   ]
  },
  {
   "cell_type": "markdown",
   "id": "aa0814c6",
   "metadata": {},
   "source": [
    "## Output to CSV"
   ]
  },
  {
   "cell_type": "code",
   "execution_count": 9,
   "id": "f5904d1b",
   "metadata": {},
   "outputs": [],
   "source": [
    "output = pd.DataFrame({'Date': gold_data.Date,\n",
    "                       'Close': final_gold_prediction})\n",
    "output.to_csv('gold_predictions_DT.csv', index=False)"
   ]
  },
  {
   "cell_type": "code",
   "execution_count": null,
   "id": "d789a403",
   "metadata": {},
   "outputs": [],
   "source": []
  }
 ],
 "metadata": {
  "kernelspec": {
   "display_name": "Python 3 (ipykernel)",
   "language": "python",
   "name": "python3"
  },
  "language_info": {
   "codemirror_mode": {
    "name": "ipython",
    "version": 3
   },
   "file_extension": ".py",
   "mimetype": "text/x-python",
   "name": "python",
   "nbconvert_exporter": "python",
   "pygments_lexer": "ipython3",
   "version": "3.9.7"
  }
 },
 "nbformat": 4,
 "nbformat_minor": 5
}
