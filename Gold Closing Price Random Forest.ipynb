{
 "cells": [
  {
   "cell_type": "markdown",
   "id": "e6750b91",
   "metadata": {},
   "source": [
    "## Imported Libraries"
   ]
  },
  {
   "cell_type": "code",
   "execution_count": 15,
   "id": "f98ddd54",
   "metadata": {},
   "outputs": [],
   "source": [
    "import pandas as pd\n",
    "from sklearn.ensemble import RandomForestRegressor\n",
    "from sklearn.metrics import mean_absolute_error\n",
    "from sklearn.model_selection import train_test_split\n",
    "import os"
   ]
  },
  {
   "cell_type": "markdown",
   "id": "419f6b7d",
   "metadata": {},
   "source": [
    "## Initial Setup"
   ]
  },
  {
   "cell_type": "code",
   "execution_count": 16,
   "id": "d1445eb3",
   "metadata": {},
   "outputs": [],
   "source": [
    "# data taken from Monthly Gold Prices (1979-2021) on Kaggle\n",
    "gold_data_path = os.path.abspath('gold.csv')\n",
    "gold_data = pd.read_csv(gold_data_path)\n",
    "\n",
    "# print(gold_data.describe())\n",
    "gold_data = gold_data.dropna(axis=0)  # drops not available data"
   ]
  },
  {
   "cell_type": "code",
   "execution_count": 17,
   "id": "0e931513",
   "metadata": {},
   "outputs": [],
   "source": [
    "gold_data_features = ['Open', 'Low', 'Volume']  # features for the prediction\n",
    "y = gold_data.Close  # prediction target\n",
    "x = gold_data[gold_data_features]\n",
    "\n",
    "train_x, validation_x, train_y, validation_y = train_test_split(x, y, random_state = 0) # split data into training and validation datasets"
   ]
  },
  {
   "cell_type": "markdown",
   "id": "58cdcb03",
   "metadata": {},
   "source": [
    "## Validation Testing"
   ]
  },
  {
   "cell_type": "code",
   "execution_count": 18,
   "id": "578f9f2a",
   "metadata": {},
   "outputs": [
    {
     "name": "stdout",
     "output_type": "stream",
     "text": [
      "Mean Absolute Error: $10.0816\n"
     ]
    }
   ],
   "source": [
    "gold_model = RandomForestRegressor(random_state=1)\n",
    "gold_model.fit(train_x, train_y)\n",
    "\n",
    "gold_prediction = gold_model.predict(validation_x)  # checks how off the data is on average\n",
    "\n",
    "print(f\"Mean Absolute Error: ${round(mean_absolute_error(validation_y, gold_prediction), 4)}\")"
   ]
  },
  {
   "cell_type": "markdown",
   "id": "d8451f16",
   "metadata": {},
   "source": [
    "## Prediction for the Entire Dataset"
   ]
  },
  {
   "cell_type": "code",
   "execution_count": 19,
   "id": "4e146385",
   "metadata": {},
   "outputs": [],
   "source": [
    "gold_prediction = gold_model.predict(x)"
   ]
  },
  {
   "cell_type": "markdown",
   "id": "35365e88",
   "metadata": {},
   "source": [
    "## Export Predictions "
   ]
  },
  {
   "cell_type": "code",
   "execution_count": 20,
   "id": "c0ea0f21",
   "metadata": {},
   "outputs": [],
   "source": [
    "output_csv = pd.DataFrame({'Date': gold_data.Date,\n",
    "                       'Close': gold_prediction})\n",
    "output_csv.to_csv('gold_predictions.csv', index=False)"
   ]
  },
  {
   "cell_type": "code",
   "execution_count": null,
   "id": "42d0bf88",
   "metadata": {},
   "outputs": [],
   "source": []
  }
 ],
 "metadata": {
  "kernelspec": {
   "display_name": "Python 3 (ipykernel)",
   "language": "python",
   "name": "python3"
  },
  "language_info": {
   "codemirror_mode": {
    "name": "ipython",
    "version": 3
   },
   "file_extension": ".py",
   "mimetype": "text/x-python",
   "name": "python",
   "nbconvert_exporter": "python",
   "pygments_lexer": "ipython3",
   "version": "3.9.7"
  }
 },
 "nbformat": 4,
 "nbformat_minor": 5
}
