{
 "cells": [
  {
   "cell_type": "code",
   "execution_count": 14,
   "metadata": {},
   "outputs": [
    {
     "name": "stdout",
     "output_type": "stream",
     "text": [
      "Predicted selling price for house id 9000: $647491.1\n"
     ]
    },
    {
     "name": "stderr",
     "output_type": "stream",
     "text": [
      "c:\\users\\adams\\appdata\\local\\programs\\python\\python37-32\\lib\\site-packages\\sklearn\\base.py:451: UserWarning: X does not have valid feature names, but LinearRegression was fitted with feature names\n",
      "  \"X does not have valid feature names, but\"\n"
     ]
    }
   ],
   "source": [
    "#Jupyter Notebook to processing pipeline\n",
    "\n",
    "\"\"\"\n",
    "I would create a script that would retrieve images or videos from some database or api and input them into the model in order to\n",
    "train it. \n",
    "Then the script would periodically retrieve the data to analyze and modify the images in a way that makes them compatible with \n",
    "the jupyter notebook if this is required. \n",
    "The script would then pass the modified images into the model and store the results of interest in a database. \n",
    "\"\"\"\n",
    "\n",
    "\n",
    "#Demo\n",
    "\"\"\"\n",
    "The following code predicts the selling price of a house based on the crime rate of the area, the square footage, and the \n",
    "average age of residents using a linear regression model. \n",
    "\"\"\"\n",
    "\n",
    "#houseData is a list of dictionaries with keys 'crimeRate', 'sqFt', 'avgAgeResidents'\n",
    "\n",
    "import pandas\n",
    "from sklearn import linear_model\n",
    "\n",
    "#generates the coefficients\n",
    "def train(csvData):\n",
    "    dataFrame = pandas.read_csv(csvData)\n",
    "    independentVars = dataFrame[['crimeRate', 'sqFt', 'avgAgeResidents']]\n",
    "    dependentVars = dataFrame['sellingPrice']\n",
    "    \n",
    "    model = linear_model.LinearRegression()\n",
    "    model.fit(independentVars, dependentVars)\n",
    "    return model\n",
    "\n",
    "#predicts the selling price of a house using a model\n",
    "def predictSellingPrice(model, house):\n",
    "    prediction = model.predict([[house['crimeRate'], house['sqFt'], house['avgAgeResidents']]])\n",
    "    myString = 'Predicted selling price for house id ' + str(house['id']) + ': $' + str(round(prediction[0], 2))\n",
    "    print(myString)\n",
    "\n",
    "csvData = \"TrainingData.csv\"\n",
    "house = {\n",
    "    'id': 9000,\n",
    "    'crimeRate': 5334.5,\n",
    "    'sqFt': 2345.3,\n",
    "    'avgAgeResidents': 54.5\n",
    "}\n",
    "\n",
    "predictSellingPrice(train(csvData), house)"
   ]
  },
  {
   "cell_type": "code",
   "execution_count": null,
   "metadata": {},
   "outputs": [],
   "source": []
  },
  {
   "cell_type": "code",
   "execution_count": null,
   "metadata": {},
   "outputs": [],
   "source": []
  }
 ],
 "metadata": {
  "kernelspec": {
   "display_name": "Python 3",
   "language": "python",
   "name": "python3"
  },
  "language_info": {
   "codemirror_mode": {
    "name": "ipython",
    "version": 3
   },
   "file_extension": ".py",
   "mimetype": "text/x-python",
   "name": "python",
   "nbconvert_exporter": "python",
   "pygments_lexer": "ipython3",
   "version": "3.7.9"
  }
 },
 "nbformat": 4,
 "nbformat_minor": 4
}
